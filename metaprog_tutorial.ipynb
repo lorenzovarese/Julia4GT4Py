{
 "cells": [
  {
   "cell_type": "markdown",
   "metadata": {},
   "source": [
    "### Metaprogramming Tutorial\n",
    "\n",
    "[Link](https://www.youtube.com/watch?v=LPkB2GYoOZI)"
   ]
  },
  {
   "cell_type": "markdown",
   "metadata": {},
   "source": [
    "Method and location of the expression used to evaluate this instruction"
   ]
  },
  {
   "cell_type": "code",
   "execution_count": 1,
   "metadata": {},
   "outputs": [
    {
     "data": {
      "text/html": [
       "+(x::<b>T</b>, y::<b>T</b>)<i> where T<:Union{Int128, Int16, Int32, Int64, Int8, UInt128, UInt16, UInt32, UInt64, UInt8}</i> in Base at <a href=\"https://github.com/JuliaLang/julia/tree/48d4fd48430af58502699fdf3504b90589df3852/base/int.jl#L87\" target=\"_blank\">int.jl:87</a>"
      ],
      "text/plain": [
       "+(\u001b[90mx\u001b[39m::\u001b[1mT\u001b[22m, \u001b[90my\u001b[39m::\u001b[1mT\u001b[22m) where T<:Union{Int128, Int16, Int32, Int64, Int8, UInt128, UInt16, UInt32, UInt64, UInt8}\n",
       "\u001b[90m     @\u001b[39m \u001b[90mBase\u001b[39m \u001b[90m\u001b[4mint.jl:87\u001b[24m\u001b[39m"
      ]
     },
     "metadata": {},
     "output_type": "display_data"
    }
   ],
   "source": [
    "@which 2 + 2"
   ]
  },
  {
   "cell_type": "markdown",
   "metadata": {},
   "source": [
    "\\#QUOTED EXPRESSION"
   ]
  },
  {
   "cell_type": "code",
   "execution_count": 2,
   "metadata": {},
   "outputs": [
    {
     "data": {
      "text/plain": [
       "3"
      ]
     },
     "metadata": {},
     "output_type": "display_data"
    }
   ],
   "source": [
    "x = 3"
   ]
  },
  {
   "cell_type": "code",
   "execution_count": 3,
   "metadata": {},
   "outputs": [
    {
     "data": {
      "text/plain": [
       ":(2 + 2)"
      ]
     },
     "metadata": {},
     "output_type": "display_data"
    }
   ],
   "source": [
    ":(2 + 2)"
   ]
  },
  {
   "cell_type": "markdown",
   "metadata": {},
   "source": [
    "Alternative way"
   ]
  },
  {
   "cell_type": "code",
   "execution_count": 4,
   "metadata": {},
   "outputs": [
    {
     "data": {
      "text/plain": [
       "quote\n",
       "    \u001b[90m#= /Users/lorenzovarese/Documents/CSCS/Julia4GT4Py/meta_programming_tutorial.ipynb:2 =#\u001b[39m\n",
       "    2 + 2\n",
       "end"
      ]
     },
     "metadata": {},
     "output_type": "display_data"
    }
   ],
   "source": [
    "quote\n",
    "    2 + 2\n",
    "end"
   ]
  },
  {
   "cell_type": "code",
   "execution_count": 13,
   "metadata": {},
   "outputs": [
    {
     "data": {
      "text/plain": [
       "quote\n",
       "    \u001b[90m#= /Users/lorenzovarese/Documents/CSCS/Julia4GT4Py/meta_programming_tutorial.ipynb:2 =#\u001b[39m\n",
       "    for j = 1:5\n",
       "        \u001b[90m#= /Users/lorenzovarese/Documents/CSCS/Julia4GT4Py/meta_programming_tutorial.ipynb:3 =#\u001b[39m\n",
       "        println(j)\n",
       "        \u001b[90m#= /Users/lorenzovarese/Documents/CSCS/Julia4GT4Py/meta_programming_tutorial.ipynb:4 =#\u001b[39m\n",
       "    end\n",
       "end"
      ]
     },
     "metadata": {},
     "output_type": "display_data"
    }
   ],
   "source": [
    "expression = quote\n",
    "    for j = 1:5\n",
    "        println(j)\n",
    "    end\n",
    "end"
   ]
  },
  {
   "cell_type": "code",
   "execution_count": 7,
   "metadata": {},
   "outputs": [
    {
     "data": {
      "text/plain": [
       "Expr"
      ]
     },
     "metadata": {},
     "output_type": "display_data"
    }
   ],
   "source": [
    "typeof(expression)"
   ]
  },
  {
   "cell_type": "markdown",
   "metadata": {},
   "source": [
    "\\# Evaluating Expressions"
   ]
  },
  {
   "cell_type": "code",
   "execution_count": 8,
   "metadata": {},
   "outputs": [
    {
     "data": {
      "text/plain": [
       "3"
      ]
     },
     "metadata": {},
     "output_type": "display_data"
    }
   ],
   "source": [
    "eval(:x)"
   ]
  },
  {
   "cell_type": "code",
   "execution_count": 9,
   "metadata": {},
   "outputs": [
    {
     "data": {
      "text/plain": [
       "6"
      ]
     },
     "metadata": {},
     "output_type": "display_data"
    }
   ],
   "source": [
    "eval(:(2*3))"
   ]
  },
  {
   "cell_type": "code",
   "execution_count": 12,
   "metadata": {},
   "outputs": [
    {
     "name": "stdout",
     "output_type": "stream",
     "text": [
      "1\n",
      "2\n",
      "3\n",
      "4\n",
      "5\n"
     ]
    }
   ],
   "source": [
    "eval(expression)"
   ]
  },
  {
   "cell_type": "code",
   "execution_count": 15,
   "metadata": {},
   "outputs": [
    {
     "data": {
      "text/plain": [
       ":(for i = 1:10\n",
       "      \u001b[90m#= /Users/lorenzovarese/Documents/CSCS/Julia4GT4Py/meta_programming_tutorial.ipynb:3 =#\u001b[39m\n",
       "      println(i)\n",
       "      \u001b[90m#= /Users/lorenzovarese/Documents/CSCS/Julia4GT4Py/meta_programming_tutorial.ipynb:4 =#\u001b[39m\n",
       "  end)"
      ]
     },
     "metadata": {},
     "output_type": "display_data"
    }
   ],
   "source": [
    "e = :(\n",
    "    for i in 1:10\n",
    "        println(i)\n",
    "    end\n",
    ")"
   ]
  },
  {
   "cell_type": "code",
   "execution_count": 16,
   "metadata": {},
   "outputs": [
    {
     "name": "stdout",
     "output_type": "stream",
     "text": [
      "1\n",
      "2\n",
      "3\n",
      "4\n",
      "5\n",
      "6\n",
      "7\n",
      "8\n",
      "9\n",
      "10\n"
     ]
    }
   ],
   "source": [
    "eval(e)"
   ]
  },
  {
   "cell_type": "markdown",
   "metadata": {},
   "source": [
    "\\# Inside Expressions"
   ]
  },
  {
   "cell_type": "code",
   "execution_count": 23,
   "metadata": {},
   "outputs": [
    {
     "data": {
      "text/plain": [
       "quote\n",
       "    \u001b[90m#= /Users/lorenzovarese/Documents/CSCS/Julia4GT4Py/meta_programming_tutorial.ipynb:2 =#\u001b[39m\n",
       "    a = 2\n",
       "    \u001b[90m#= /Users/lorenzovarese/Documents/CSCS/Julia4GT4Py/meta_programming_tutorial.ipynb:3 =#\u001b[39m\n",
       "    b = 3\n",
       "    \u001b[90m#= /Users/lorenzovarese/Documents/CSCS/Julia4GT4Py/meta_programming_tutorial.ipynb:4 =#\u001b[39m\n",
       "    c = 4\n",
       "    \u001b[90m#= /Users/lorenzovarese/Documents/CSCS/Julia4GT4Py/meta_programming_tutorial.ipynb:5 =#\u001b[39m\n",
       "    d = 5\n",
       "    \u001b[90m#= /Users/lorenzovarese/Documents/CSCS/Julia4GT4Py/meta_programming_tutorial.ipynb:6 =#\u001b[39m\n",
       "    e = sum([a, b, c, d])\n",
       "end"
      ]
     },
     "metadata": {},
     "output_type": "display_data"
    }
   ],
   "source": [
    "P = quote\n",
    "    a = 2\n",
    "    b = 3\n",
    "    c = 4\n",
    "    d = 5\n",
    "    e = sum([a,b,c,d])\n",
    "end"
   ]
  },
  {
   "cell_type": "code",
   "execution_count": 24,
   "metadata": {},
   "outputs": [
    {
     "data": {
      "text/plain": [
       "(:head, :args)"
      ]
     },
     "metadata": {},
     "output_type": "display_data"
    }
   ],
   "source": [
    "fieldnames(typeof(P))"
   ]
  },
  {
   "cell_type": "code",
   "execution_count": 25,
   "metadata": {},
   "outputs": [
    {
     "data": {
      "text/plain": [
       ":(a = 2)"
      ]
     },
     "metadata": {},
     "output_type": "display_data"
    }
   ],
   "source": [
    "P.args[2] # Second subexpression"
   ]
  },
  {
   "cell_type": "code",
   "execution_count": 26,
   "metadata": {},
   "outputs": [
    {
     "name": "stdout",
     "output_type": "stream",
     "text": [
      "1: \u001b[90m#= /Users/lorenzovarese/Documents/CSCS/Julia4GT4Py/meta_programming_tutorial.ipynb:2 =#\u001b[39m\n",
      "2: a = 2\n",
      "3: \u001b[90m#= /Users/lorenzovarese/Documents/CSCS/Julia4GT4Py/meta_programming_tutorial.ipynb:3 =#\u001b[39m\n",
      "4: b = 3\n",
      "5: \u001b[90m#= /Users/lorenzovarese/Documents/CSCS/Julia4GT4Py/meta_programming_tutorial.ipynb:4 =#\u001b[39m\n",
      "6: c = 4\n",
      "7: \u001b[90m#= /Users/lorenzovarese/Documents/CSCS/Julia4GT4Py/meta_programming_tutorial.ipynb:5 =#\u001b[39m\n",
      "8: d = 5\n",
      "9: \u001b[90m#= /Users/lorenzovarese/Documents/CSCS/Julia4GT4Py/meta_programming_tutorial.ipynb:6 =#\u001b[39m\n",
      "10: e = sum([a, b, c, d])\n"
     ]
    }
   ],
   "source": [
    "for (n, expr) in enumerate(P.args)\n",
    "    println(n, \": \", P.args[n])\n",
    "end"
   ]
  },
  {
   "cell_type": "code",
   "execution_count": 27,
   "metadata": {},
   "outputs": [
    {
     "data": {
      "text/plain": [
       "14"
      ]
     },
     "metadata": {},
     "output_type": "display_data"
    }
   ],
   "source": [
    "eval(P)"
   ]
  },
  {
   "cell_type": "markdown",
   "metadata": {},
   "source": [
    "Change the expression to return the product instead of the sum."
   ]
  },
  {
   "cell_type": "code",
   "execution_count": 30,
   "metadata": {},
   "outputs": [
    {
     "data": {
      "text/plain": [
       ":(prod([a, b, c, d]))"
      ]
     },
     "metadata": {},
     "output_type": "display_data"
    }
   ],
   "source": [
    "P.args[end] = :(prod([a,b,c,d]))"
   ]
  },
  {
   "cell_type": "code",
   "execution_count": 31,
   "metadata": {},
   "outputs": [
    {
     "data": {
      "text/plain": [
       "120"
      ]
     },
     "metadata": {},
     "output_type": "display_data"
    }
   ],
   "source": [
    "eval(P)"
   ]
  },
  {
   "cell_type": "markdown",
   "metadata": {},
   "source": [
    "AST Representation in Julia"
   ]
  },
  {
   "cell_type": "code",
   "execution_count": 32,
   "metadata": {},
   "outputs": [
    {
     "name": "stdout",
     "output_type": "stream",
     "text": [
      "Expr\n",
      "  head: Symbol call\n",
      "  args: Array{Any}((3,))\n",
      "    1: Symbol *\n",
      "    2: Int64 3\n",
      "    3: Expr\n",
      "      head: Symbol call\n",
      "      args: Array{Any}((2,))\n",
      "        1: Symbol sin\n",
      "        2: Expr\n",
      "          head: Symbol call\n",
      "          args: Array{Any}((3,))\n",
      "            1: Symbol /\n",
      "            2: Symbol pi\n",
      "            3: Int64 2\n"
     ]
    }
   ],
   "source": [
    "dump(:(3 * sin(pi/2)))"
   ]
  },
  {
   "cell_type": "code",
   "execution_count": 33,
   "metadata": {},
   "outputs": [
    {
     "name": "stdout",
     "output_type": "stream",
     "text": [
      "Expr\n",
      "  head: Symbol block\n",
      "  args: Array{Any}((10,))\n",
      "    1: LineNumberNode\n",
      "      line: Int64 2\n",
      "      file: Symbol /Users/lorenzovarese/Documents/CSCS/Julia4GT4Py/meta_programming_tutorial.ipynb\n",
      "    2: Expr\n",
      "      head: Symbol =\n",
      "      args: Array{Any}((2,))\n",
      "        1: Symbol a\n",
      "        2: Int64 2\n",
      "    3: LineNumberNode\n",
      "      line: Int64 3\n",
      "      file: Symbol /Users/lorenzovarese/Documents/CSCS/Julia4GT4Py/meta_programming_tutorial.ipynb\n",
      "    4: Expr\n",
      "      head: Symbol =\n",
      "      args: Array{Any}((2,))\n",
      "        1: Symbol b\n",
      "        2: Int64 3\n",
      "    5: LineNumberNode\n",
      "      line: Int64 4\n",
      "      file: Symbol /Users/lorenzovarese/Documents/CSCS/Julia4GT4Py/meta_programming_tutorial.ipynb\n",
      "    6: Expr\n",
      "      head: Symbol =\n",
      "      args: Array{Any}((2,))\n",
      "        1: Symbol c\n",
      "        2: Int64 4\n",
      "    7: LineNumberNode\n",
      "      line: Int64 5\n",
      "      file: Symbol /Users/lorenzovarese/Documents/CSCS/Julia4GT4Py/meta_programming_tutorial.ipynb\n",
      "    8: Expr\n",
      "      head: Symbol =\n",
      "      args: Array{Any}((2,))\n",
      "        1: Symbol d\n",
      "        2: Int64 5\n",
      "    9: LineNumberNode\n",
      "      line: Int64 6\n",
      "      file: Symbol /Users/lorenzovarese/Documents/CSCS/Julia4GT4Py/meta_programming_tutorial.ipynb\n",
      "    10: Expr\n",
      "      head: Symbol call\n",
      "      args: Array{Any}((2,))\n",
      "        1: Symbol prod\n",
      "        2: Expr\n",
      "          head: Symbol vect\n",
      "          args: Array{Any}((4,))\n",
      "            1: Symbol a\n",
      "            2: Symbol b\n",
      "            3: Symbol c\n",
      "            4: Symbol d\n"
     ]
    }
   ],
   "source": [
    "dump(P)"
   ]
  },
  {
   "cell_type": "markdown",
   "metadata": {},
   "source": [
    "\\#Expression Interpolation"
   ]
  },
  {
   "cell_type": "code",
   "execution_count": 34,
   "metadata": {},
   "outputs": [
    {
     "data": {
      "text/plain": [
       "\"the sine of 1 is 0.8414709848078965\""
      ]
     },
     "metadata": {},
     "output_type": "display_data"
    }
   ],
   "source": [
    "\"the sine of 1 is $(sin(1))\""
   ]
  },
  {
   "cell_type": "code",
   "execution_count": 36,
   "metadata": {},
   "outputs": [
    {
     "data": {
      "text/plain": [
       "quote\n",
       "    \u001b[90m#= /Users/lorenzovarese/Documents/CSCS/Julia4GT4Py/meta_programming_tutorial.ipynb:1 =#\u001b[39m\n",
       "    s = 1.3817732906760363\n",
       "end"
      ]
     },
     "metadata": {},
     "output_type": "display_data"
    }
   ],
   "source": [
    "quote s = $(sin(1) + cos(1)); end"
   ]
  },
  {
   "cell_type": "markdown",
   "metadata": {},
   "source": [
    "A macro is a way to generate a new output expression, given an unevaluated output expression."
   ]
  },
  {
   "cell_type": "code",
   "execution_count": 40,
   "metadata": {},
   "outputs": [
    {
     "data": {
      "text/plain": [
       "@p (macro with 1 method)"
      ]
     },
     "metadata": {},
     "output_type": "display_data"
    }
   ],
   "source": [
    "# Simple macro that prints the content of what we have passed\n",
    "macro p(n)\n",
    "    if typeof(n) == Expr\n",
    "        println(n.args)\n",
    "    end\n",
    "    return n\n",
    "end\n",
    "\n"
   ]
  },
  {
   "cell_type": "code",
   "execution_count": 42,
   "metadata": {},
   "outputs": [
    {
     "data": {
      "text/plain": [
       "3"
      ]
     },
     "metadata": {},
     "output_type": "display_data"
    }
   ],
   "source": [
    "@p 3 # It simply return 3, because it is not an expression"
   ]
  },
  {
   "cell_type": "code",
   "execution_count": 43,
   "metadata": {},
   "outputs": [
    {
     "name": "stdout",
     "output_type": "stream",
     "text": [
      "Any[:-, :(3 + 4), 5]\n"
     ]
    },
    {
     "data": {
      "text/plain": [
       "2"
      ]
     },
     "metadata": {},
     "output_type": "display_data"
    }
   ],
   "source": [
    "@p 3 + 4 - 5"
   ]
  },
  {
   "cell_type": "markdown",
   "metadata": {},
   "source": [
    "Eval function and at eval method (eval vs @eval)"
   ]
  },
  {
   "cell_type": "code",
   "execution_count": 44,
   "metadata": {},
   "outputs": [
    {
     "data": {
      "text/plain": [
       ":(2 + 4)"
      ]
     },
     "metadata": {},
     "output_type": "display_data"
    }
   ],
   "source": [
    "ex = :(2 + 4)"
   ]
  },
  {
   "cell_type": "code",
   "execution_count": 45,
   "metadata": {},
   "outputs": [
    {
     "data": {
      "text/plain": [
       "6"
      ]
     },
     "metadata": {},
     "output_type": "display_data"
    }
   ],
   "source": [
    "eval(ex)"
   ]
  },
  {
   "cell_type": "code",
   "execution_count": 46,
   "metadata": {},
   "outputs": [
    {
     "data": {
      "text/plain": [
       ":(2 + 4)"
      ]
     },
     "metadata": {},
     "output_type": "display_data"
    }
   ],
   "source": [
    "@eval ex"
   ]
  },
  {
   "cell_type": "code",
   "execution_count": 47,
   "metadata": {},
   "outputs": [
    {
     "ename": "ErrorException",
     "evalue": "syntax: \"$\" expression outside quote around /Users/lorenzovarese/Documents/CSCS/Julia4GT4Py/meta_programming_tutorial.ipynb:1",
     "output_type": "error",
     "traceback": [
      "syntax: \"$\" expression outside quote around /Users/lorenzovarese/Documents/CSCS/Julia4GT4Py/meta_programming_tutorial.ipynb:1\n",
      "\n",
      "Stacktrace:\n",
      " [1] top-level scope\n",
      "   @ ~/Documents/CSCS/Julia4GT4Py/meta_programming_tutorial.ipynb:1"
     ]
    }
   ],
   "source": [
    "$(ex)"
   ]
  },
  {
   "cell_type": "code",
   "execution_count": 48,
   "metadata": {},
   "outputs": [
    {
     "data": {
      "text/plain": [
       "6"
      ]
     },
     "metadata": {},
     "output_type": "display_data"
    }
   ],
   "source": [
    "@eval $(ex)"
   ]
  },
  {
   "cell_type": "markdown",
   "metadata": {},
   "source": [
    "In other words..."
   ]
  },
  {
   "cell_type": "code",
   "execution_count": 49,
   "metadata": {},
   "outputs": [
    {
     "data": {
      "text/plain": [
       "true"
      ]
     },
     "metadata": {},
     "output_type": "display_data"
    }
   ],
   "source": [
    "eval(ex) == @eval $(ex)"
   ]
  },
  {
   "cell_type": "markdown",
   "metadata": {},
   "source": [
    "Example of automation in variable declarations"
   ]
  },
  {
   "cell_type": "code",
   "execution_count": 50,
   "metadata": {},
   "outputs": [],
   "source": [
    "for i in 1:10\n",
    "    symbolname = Symbol(\"var_squares_$(i)\")\n",
    "    eval(quote $symbolname = $(i^2) end)\n",
    "end\n",
    "\n",
    "for i in 1:10\n",
    "    symbolname = Symbol(\"var_cubes_$(i)\")\n",
    "    eval(quote $symbolname = $(i^3) end)\n",
    "end"
   ]
  },
  {
   "cell_type": "code",
   "execution_count": 51,
   "metadata": {},
   "outputs": [
    {
     "data": {
      "text/plain": [
       "125"
      ]
     },
     "metadata": {},
     "output_type": "display_data"
    }
   ],
   "source": [
    "var_cubes_5"
   ]
  },
  {
   "cell_type": "code",
   "execution_count": 52,
   "metadata": {},
   "outputs": [
    {
     "data": {
      "text/plain": [
       "10-element Vector{Int64}:\n",
       "   1\n",
       "   4\n",
       "   9\n",
       "  16\n",
       "  25\n",
       "  36\n",
       "  49\n",
       "  64\n",
       "  81\n",
       " 100"
      ]
     },
     "metadata": {},
     "output_type": "display_data"
    }
   ],
   "source": [
    "# One-liner that makes the same as the beforementioned loop but now uses comprehension\n",
    "[@eval $(Symbol(\"var_squares_$(i)\"))=($i^2) for i in 1:10]"
   ]
  },
  {
   "cell_type": "markdown",
   "metadata": {},
   "source": [
    "Keeping an eye out for the issues related to the scope"
   ]
  },
  {
   "cell_type": "code",
   "execution_count": 53,
   "metadata": {},
   "outputs": [
    {
     "data": {
      "text/plain": [
       "@f (macro with 1 method)"
      ]
     },
     "metadata": {},
     "output_type": "display_data"
    }
   ],
   "source": [
    "macro f(x)\n",
    "    quote\n",
    "        s = 4\n",
    "        (s, $(esc(s)))\n",
    "    end\n",
    "end"
   ]
  },
  {
   "cell_type": "code",
   "execution_count": 54,
   "metadata": {},
   "outputs": [
    {
     "data": {
      "text/plain": [
       "0"
      ]
     },
     "metadata": {},
     "output_type": "display_data"
    }
   ],
   "source": [
    "s = 0"
   ]
  },
  {
   "cell_type": "code",
   "execution_count": 56,
   "metadata": {},
   "outputs": [
    {
     "data": {
      "text/plain": [
       "(4, 0)"
      ]
     },
     "metadata": {},
     "output_type": "display_data"
    }
   ],
   "source": [
    "@f s # Returns the both s. (Local, Escape Version)"
   ]
  },
  {
   "cell_type": "markdown",
   "metadata": {},
   "source": [
    "Expanding Macro"
   ]
  },
  {
   "cell_type": "code",
   "execution_count": 58,
   "metadata": {},
   "outputs": [
    {
     "name": "stdout",
     "output_type": "stream",
     "text": [
      "Any[:-, :(4 + 7), 2]\n"
     ]
    },
    {
     "data": {
      "text/plain": [
       "quote\n",
       "    \u001b[90m#= /Users/lorenzovarese/Documents/CSCS/Julia4GT4Py/meta_programming_tutorial.ipynb:1 =#\u001b[39m\n",
       "    (4 + 7) - 2\n",
       "end"
      ]
     },
     "metadata": {},
     "output_type": "display_data"
    }
   ],
   "source": [
    "macroexpand(Main, quote @p 4 + 7 - 2 end)"
   ]
  },
  {
   "cell_type": "code",
   "execution_count": 60,
   "metadata": {},
   "outputs": [
    {
     "data": {
      "text/plain": [
       "@dotimes (macro with 1 method)"
      ]
     },
     "metadata": {},
     "output_type": "display_data"
    }
   ],
   "source": [
    "macro dotimes(n, body)\n",
    "    quote\n",
    "        for i = 1:$(esc(n))\n",
    "            $(esc(body))\n",
    "        end\n",
    "    end\n",
    "end"
   ]
  },
  {
   "cell_type": "code",
   "execution_count": 61,
   "metadata": {},
   "outputs": [
    {
     "name": "stdout",
     "output_type": "stream",
     "text": [
      "Foo\n",
      "Foo\n",
      "Foo\n"
     ]
    }
   ],
   "source": [
    "@dotimes 3 println(\"Foo\")"
   ]
  },
  {
   "cell_type": "code",
   "execution_count": 62,
   "metadata": {},
   "outputs": [
    {
     "name": "stdout",
     "output_type": "stream",
     "text": [
      "Foo\n",
      "Foo\n",
      "Foo\n"
     ]
    }
   ],
   "source": [
    "@dotimes(3, println(\"Foo\"))"
   ]
  },
  {
   "cell_type": "code",
   "execution_count": 64,
   "metadata": {},
   "outputs": [
    {
     "name": "stdout",
     "output_type": "stream",
     "text": [
      "i is 4\n",
      "i is 5\n",
      "i is 6\n",
      "i is 4\n",
      "i is 5\n",
      "i is 6\n",
      "i is 4\n",
      "i is 5\n",
      "i is 6\n"
     ]
    }
   ],
   "source": [
    "@dotimes 3 begin\n",
    "    for i in 4:6\n",
    "        println(\"i is $(i)\")\n",
    "    end\n",
    "end"
   ]
  },
  {
   "cell_type": "code",
   "execution_count": 65,
   "metadata": {},
   "outputs": [
    {
     "data": {
      "text/plain": [
       "quote\n",
       "    \u001b[90m#= /Users/lorenzovarese/Documents/CSCS/Julia4GT4Py/meta_programming_tutorial.ipynb:3 =#\u001b[39m\n",
       "    begin\n",
       "        \u001b[90m#= /Users/lorenzovarese/Documents/CSCS/Julia4GT4Py/meta_programming_tutorial.ipynb:3 =#\u001b[39m\n",
       "        for var\"#105#i\" = 1:3\n",
       "            \u001b[90m#= /Users/lorenzovarese/Documents/CSCS/Julia4GT4Py/meta_programming_tutorial.ipynb:4 =#\u001b[39m\n",
       "            begin\n",
       "                \u001b[90m#= /Users/lorenzovarese/Documents/CSCS/Julia4GT4Py/meta_programming_tutorial.ipynb:4 =#\u001b[39m\n",
       "                for i = 4:6\n",
       "                    \u001b[90m#= /Users/lorenzovarese/Documents/CSCS/Julia4GT4Py/meta_programming_tutorial.ipynb:5 =#\u001b[39m\n",
       "                    println(\"i is $(i)\")\n",
       "                    \u001b[90m#= /Users/lorenzovarese/Documents/CSCS/Julia4GT4Py/meta_programming_tutorial.ipynb:6 =#\u001b[39m\n",
       "                end\n",
       "            end\n",
       "            \u001b[90m#= /Users/lorenzovarese/Documents/CSCS/Julia4GT4Py/meta_programming_tutorial.ipynb:5 =#\u001b[39m\n",
       "        end\n",
       "    end\n",
       "end"
      ]
     },
     "metadata": {},
     "output_type": "display_data"
    }
   ],
   "source": [
    "macroexpand(Main, # we're working in the main module\n",
    "quote\n",
    "    @dotimes 3 begin\n",
    "        for i in 4:6\n",
    "            println(\"i is $(i)\")\n",
    "        end\n",
    "    end\n",
    "end)"
   ]
  },
  {
   "cell_type": "code",
   "execution_count": null,
   "metadata": {},
   "outputs": [],
   "source": []
  }
 ],
 "metadata": {
  "kernelspec": {
   "display_name": "Julia 1.10.4",
   "language": "julia",
   "name": "julia-1.10"
  },
  "language_info": {
   "file_extension": ".jl",
   "mimetype": "application/julia",
   "name": "julia",
   "version": "1.10.4"
  }
 },
 "nbformat": 4,
 "nbformat_minor": 2
}
